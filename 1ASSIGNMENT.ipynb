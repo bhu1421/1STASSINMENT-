{
  "metadata": {
    "kernelspec": {
      "name": "python",
      "display_name": "Python (Pyodide)",
      "language": "python"
    },
    "language_info": {
      "codemirror_mode": {
        "name": "python",
        "version": 3
      },
      "file_extension": ".py",
      "mimetype": "text/x-python",
      "name": "python",
      "nbconvert_exporter": "python",
      "pygments_lexer": "ipython3",
      "version": "3.8"
    }
  },
  "nbformat_minor": 4,
  "nbformat": 4,
  "cells": [
    {
      "cell_type": "markdown",
      "source": "# MY FIRST ASSIGNMENT",
      "metadata": {}
    },
    {
      "cell_type": "markdown",
      "source": "INTRODUCTION \n\nHEY I AM BHUVAN PATIL , CREATING MY FIRST PROJECT ASSIGNMENT WHICH IS TO BE UPLOADED ON COURSERA AND IT SHOILD BE LINK WITH THE GITHUB WHERE IT CAN BE ASSCESSED PUBLICLIY",
      "metadata": {}
    },
    {
      "cell_type": "markdown",
      "source": "Data science languages\n\nPYTHON\nJAVASCRIPT\nR",
      "metadata": {}
    },
    {
      "cell_type": "markdown",
      "source": " data science libraries\n PANDAS \n NUMPY\n SCIPY\n TENSORFLOW\n ",
      "metadata": {}
    },
    {
      "cell_type": "markdown",
      "source": "table of Data Science tools\n",
      "metadata": {}
    },
    {
      "cell_type": "markdown",
      "source": " introducing arithmetic expression examples\n\n HERE WE WILL ADD AND MULTIPLY THE TWO VARIABLE\n ",
      "metadata": {}
    },
    {
      "cell_type": "code",
      "source": "x = 5\ny = 10\nz = x + y\nprint(z)",
      "metadata": {
        "trusted": true
      },
      "outputs": [
        {
          "name": "stdout",
          "text": "15\n",
          "output_type": "stream"
        }
      ],
      "execution_count": 4
    },
    {
      "cell_type": "code",
      "source": "x = 5\ny = 10\nz = x * y\nprint(z)",
      "metadata": {
        "trusted": true
      },
      "outputs": [
        {
          "name": "stdout",
          "text": "50\n",
          "output_type": "stream"
        }
      ],
      "execution_count": 5
    },
    {
      "cell_type": "code",
      "source": "min = 360.0\n\nhour = min / 60\nprint(hour)",
      "metadata": {
        "trusted": true
      },
      "outputs": [
        {
          "name": "stdout",
          "text": "6.0\n",
          "output_type": "stream"
        }
      ],
      "execution_count": 8
    },
    {
      "cell_type": "markdown",
      "source": " list Objectives\n",
      "metadata": {}
    },
    {
      "cell_type": "markdown",
      "source": "AUTHOR NAME\nBHUVAN PATIL",
      "metadata": {}
    }
  ]
}